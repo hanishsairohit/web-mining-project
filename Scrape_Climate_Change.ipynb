{
 "cells": [
  {
   "cell_type": "code",
   "execution_count": 3,
   "metadata": {
    "scrolled": true
   },
   "outputs": [
    {
     "name": "stdout",
     "output_type": "stream",
     "text": [
      "Requirement already satisfied: webdriver_manager in /Users/adityagaikwad/opt/anaconda3/lib/python3.8/site-packages (3.5.2)\n",
      "Requirement already satisfied: crayons in /Users/adityagaikwad/opt/anaconda3/lib/python3.8/site-packages (from webdriver_manager) (0.4.0)\n",
      "Requirement already satisfied: configparser in /Users/adityagaikwad/opt/anaconda3/lib/python3.8/site-packages (from webdriver_manager) (5.2.0)\n",
      "Requirement already satisfied: requests in /Users/adityagaikwad/opt/anaconda3/lib/python3.8/site-packages (from webdriver_manager) (2.24.0)\n",
      "Requirement already satisfied: colorama in /Users/adityagaikwad/opt/anaconda3/lib/python3.8/site-packages (from crayons->webdriver_manager) (0.4.4)\n",
      "Requirement already satisfied: certifi>=2017.4.17 in /Users/adityagaikwad/opt/anaconda3/lib/python3.8/site-packages (from requests->webdriver_manager) (2020.6.20)\n",
      "Requirement already satisfied: idna<3,>=2.5 in /Users/adityagaikwad/opt/anaconda3/lib/python3.8/site-packages (from requests->webdriver_manager) (2.10)\n",
      "Requirement already satisfied: chardet<4,>=3.0.2 in /Users/adityagaikwad/opt/anaconda3/lib/python3.8/site-packages (from requests->webdriver_manager) (3.0.4)\n",
      "Collecting urllib3!=1.25.0,!=1.25.1,<1.26,>=1.21.1\n",
      "  Using cached urllib3-1.25.11-py2.py3-none-any.whl (127 kB)\n",
      "Installing collected packages: urllib3\n",
      "  Attempting uninstall: urllib3\n",
      "    Found existing installation: urllib3 1.26.7\n",
      "    Uninstalling urllib3-1.26.7:\n",
      "      Successfully uninstalled urllib3-1.26.7\n",
      "\u001b[31mERROR: After October 2020 you may experience errors when installing or updating packages. This is because pip will change the way that it resolves dependency conflicts.\n",
      "\n",
      "We recommend you use --use-feature=2020-resolver to test your packages with the new resolver before it becomes the default.\n",
      "\n",
      "conda 4.10.3 requires ruamel_yaml_conda>=0.11.14, which is not installed.\n",
      "selenium 4.0.0 requires urllib3[secure]~=1.26, but you'll have urllib3 1.25.11 which is incompatible.\u001b[0m\n",
      "Successfully installed urllib3-1.25.11\n",
      "Requirement already satisfied: selenium in /Users/adityagaikwad/opt/anaconda3/lib/python3.8/site-packages (4.0.0)\n",
      "Collecting urllib3[secure]~=1.26\n",
      "  Using cached urllib3-1.26.7-py2.py3-none-any.whl (138 kB)\n",
      "Requirement already satisfied: trio-websocket~=0.9 in /Users/adityagaikwad/opt/anaconda3/lib/python3.8/site-packages (from selenium) (0.9.2)\n",
      "Requirement already satisfied: trio~=0.17 in /Users/adityagaikwad/opt/anaconda3/lib/python3.8/site-packages (from selenium) (0.19.0)\n",
      "Requirement already satisfied: certifi; extra == \"secure\" in /Users/adityagaikwad/opt/anaconda3/lib/python3.8/site-packages (from urllib3[secure]~=1.26->selenium) (2020.6.20)\n",
      "Requirement already satisfied: cryptography>=1.3.4; extra == \"secure\" in /Users/adityagaikwad/opt/anaconda3/lib/python3.8/site-packages (from urllib3[secure]~=1.26->selenium) (3.1.1)\n",
      "Requirement already satisfied: idna>=2.0.0; extra == \"secure\" in /Users/adityagaikwad/opt/anaconda3/lib/python3.8/site-packages (from urllib3[secure]~=1.26->selenium) (2.10)\n",
      "Requirement already satisfied: pyOpenSSL>=0.14; extra == \"secure\" in /Users/adityagaikwad/opt/anaconda3/lib/python3.8/site-packages (from urllib3[secure]~=1.26->selenium) (19.1.0)\n",
      "Requirement already satisfied: async-generator>=1.10 in /Users/adityagaikwad/opt/anaconda3/lib/python3.8/site-packages (from trio-websocket~=0.9->selenium) (1.10)\n",
      "Requirement already satisfied: wsproto>=0.14 in /Users/adityagaikwad/opt/anaconda3/lib/python3.8/site-packages (from trio-websocket~=0.9->selenium) (1.0.0)\n",
      "Requirement already satisfied: attrs>=19.2.0 in /Users/adityagaikwad/opt/anaconda3/lib/python3.8/site-packages (from trio~=0.17->selenium) (20.3.0)\n",
      "Requirement already satisfied: sniffio in /Users/adityagaikwad/opt/anaconda3/lib/python3.8/site-packages (from trio~=0.17->selenium) (1.2.0)\n",
      "Requirement already satisfied: outcome in /Users/adityagaikwad/opt/anaconda3/lib/python3.8/site-packages (from trio~=0.17->selenium) (1.1.0)\n",
      "Requirement already satisfied: sortedcontainers in /Users/adityagaikwad/opt/anaconda3/lib/python3.8/site-packages (from trio~=0.17->selenium) (2.2.2)\n",
      "Requirement already satisfied: cffi!=1.11.3,>=1.8 in /Users/adityagaikwad/opt/anaconda3/lib/python3.8/site-packages (from cryptography>=1.3.4; extra == \"secure\"->urllib3[secure]~=1.26->selenium) (1.14.3)\n",
      "Requirement already satisfied: six>=1.4.1 in /Users/adityagaikwad/opt/anaconda3/lib/python3.8/site-packages (from cryptography>=1.3.4; extra == \"secure\"->urllib3[secure]~=1.26->selenium) (1.15.0)\n",
      "Requirement already satisfied: h11<1,>=0.9.0 in /Users/adityagaikwad/opt/anaconda3/lib/python3.8/site-packages (from wsproto>=0.14->trio-websocket~=0.9->selenium) (0.12.0)\n",
      "Requirement already satisfied: pycparser in /Users/adityagaikwad/opt/anaconda3/lib/python3.8/site-packages (from cffi!=1.11.3,>=1.8->cryptography>=1.3.4; extra == \"secure\"->urllib3[secure]~=1.26->selenium) (2.20)\n",
      "Installing collected packages: urllib3\n",
      "  Attempting uninstall: urllib3\n",
      "    Found existing installation: urllib3 1.25.11\n",
      "    Uninstalling urllib3-1.25.11:\n",
      "      Successfully uninstalled urllib3-1.25.11\n",
      "\u001b[31mERROR: After October 2020 you may experience errors when installing or updating packages. This is because pip will change the way that it resolves dependency conflicts.\n",
      "\n",
      "We recommend you use --use-feature=2020-resolver to test your packages with the new resolver before it becomes the default.\n",
      "\n",
      "conda 4.10.3 requires ruamel_yaml_conda>=0.11.14, which is not installed.\n",
      "requests 2.24.0 requires urllib3!=1.25.0,!=1.25.1,<1.26,>=1.21.1, but you'll have urllib3 1.26.7 which is incompatible.\u001b[0m\n",
      "Successfully installed urllib3-1.26.7\n"
     ]
    }
   ],
   "source": [
    "!pip install webdriver_manager\n",
    "!pip install selenium "
   ]
  },
  {
   "cell_type": "code",
   "execution_count": 4,
   "metadata": {},
   "outputs": [
    {
     "name": "stderr",
     "output_type": "stream",
     "text": [
      "/Users/adityagaikwad/opt/anaconda3/lib/python3.8/site-packages/requests/__init__.py:89: RequestsDependencyWarning: urllib3 (1.26.7) or chardet (3.0.4) doesn't match a supported version!\n",
      "  warnings.warn(\"urllib3 ({}) or chardet ({}) doesn't match a supported \"\n"
     ]
    }
   ],
   "source": [
    "from selenium import webdriver\n",
    "from webdriver_manager.chrome import ChromeDriverManager\n",
    "from tqdm import tqdm\n",
    "import time\n",
    "import itertools"
   ]
  },
  {
   "cell_type": "code",
   "execution_count": 5,
   "metadata": {},
   "outputs": [
    {
     "name": "stderr",
     "output_type": "stream",
     "text": [
      "\n",
      "\n",
      "====== WebDriver manager ======\n",
      "Current google-chrome version is 96.0.4664\n",
      "Get LATEST chromedriver version for 96.0.4664 google-chrome\n",
      "Driver [/Users/adityagaikwad/.wdm/drivers/chromedriver/mac64/96.0.4664.45/chromedriver] found in cache\n",
      "<ipython-input-5-12edf92373bb>:5: DeprecationWarning: executable_path has been deprecated, please pass in a Service object\n",
      "  driver = webdriver.Chrome(ChromeDriverManager().install())\n"
     ]
    }
   ],
   "source": [
    "from selenium import webdriver\n",
    "from webdriver_manager.chrome import ChromeDriverManager\n",
    "from tqdm import tqdm\n",
    "import time\n",
    "driver = webdriver.Chrome(ChromeDriverManager().install())"
   ]
  },
  {
   "cell_type": "markdown",
   "metadata": {},
   "source": [
    "## Scrape NBC News"
   ]
  },
  {
   "cell_type": "code",
   "execution_count": 4,
   "metadata": {},
   "outputs": [],
   "source": [
    "driver.get(\"https://www.nbcnews.com/climate-in-crisis\")"
   ]
  },
  {
   "cell_type": "code",
   "execution_count": 5,
   "metadata": {},
   "outputs": [
    {
     "name": "stderr",
     "output_type": "stream",
     "text": [
      "<ipython-input-5-d6a1a52a2166>:5: DeprecationWarning: find_element_by_* commands are deprecated. Please use find_element() instead\n",
      "  next_button = driver.find_element_by_xpath(\"//div[@class='feeds__load-more-wrapper']\")\n"
     ]
    }
   ],
   "source": [
    "import time\n",
    "while True:\n",
    "    \n",
    "    try:\n",
    "        next_button = driver.find_element_by_xpath(\"//div[@class='feeds__load-more-wrapper']\")\n",
    "        next_button.click()\n",
    "    except:\n",
    "        break;        \n",
    "    time.sleep(2)   "
   ]
  },
  {
   "cell_type": "code",
   "execution_count": 6,
   "metadata": {},
   "outputs": [
    {
     "name": "stderr",
     "output_type": "stream",
     "text": [
      "<ipython-input-6-8873419b179a>:1: DeprecationWarning: find_elements_by_* commands are deprecated. Please use find_elements() instead\n",
      "  url_components = driver.find_elements_by_xpath(\"//div[@class='wide-tease-item__wrapper df flex-column flex-row-m flex-nowrap-m']/div/a\")\n"
     ]
    },
    {
     "ename": "NoSuchWindowException",
     "evalue": "Message: no such window: window was already closed\n  (Session info: chrome=96.0.4664.55)\nStacktrace:\n0   chromedriver                        0x0000000100762269 __gxx_personality_v0 + 582729\n1   chromedriver                        0x00000001006edc33 __gxx_personality_v0 + 106003\n2   chromedriver                        0x00000001002aae28 chromedriver + 171560\n3   chromedriver                        0x000000010029aa95 chromedriver + 105109\n4   chromedriver                        0x000000010029bf42 chromedriver + 110402\n5   chromedriver                        0x0000000100294c22 chromedriver + 80930\n6   chromedriver                        0x00000001002ac2b3 chromedriver + 176819\n7   chromedriver                        0x000000010030fb0c chromedriver + 584460\n8   chromedriver                        0x00000001002fdc23 chromedriver + 511011\n9   chromedriver                        0x00000001002d375e chromedriver + 337758\n10  chromedriver                        0x00000001002d4a95 chromedriver + 342677\n11  chromedriver                        0x000000010071e8ab __gxx_personality_v0 + 305803\n12  chromedriver                        0x0000000100735863 __gxx_personality_v0 + 399939\n13  chromedriver                        0x000000010073ac7f __gxx_personality_v0 + 421471\n14  chromedriver                        0x0000000100736bba __gxx_personality_v0 + 404890\n15  chromedriver                        0x0000000100712e51 __gxx_personality_v0 + 258097\n16  chromedriver                        0x0000000100752158 __gxx_personality_v0 + 516920\n17  chromedriver                        0x00000001007522e1 __gxx_personality_v0 + 517313\n18  chromedriver                        0x00000001007696f8 __gxx_personality_v0 + 612568\n19  libsystem_pthread.dylib             0x00007fff20349950 _pthread_start + 224\n20  libsystem_pthread.dylib             0x00007fff2034547b thread_start + 15\n",
     "output_type": "error",
     "traceback": [
      "\u001b[0;31m---------------------------------------------------------------------------\u001b[0m",
      "\u001b[0;31mNoSuchWindowException\u001b[0m                     Traceback (most recent call last)",
      "\u001b[0;32m<ipython-input-6-8873419b179a>\u001b[0m in \u001b[0;36m<module>\u001b[0;34m\u001b[0m\n\u001b[0;32m----> 1\u001b[0;31m \u001b[0murl_components\u001b[0m \u001b[0;34m=\u001b[0m \u001b[0mdriver\u001b[0m\u001b[0;34m.\u001b[0m\u001b[0mfind_elements_by_xpath\u001b[0m\u001b[0;34m(\u001b[0m\u001b[0;34m\"//div[@class='wide-tease-item__wrapper df flex-column flex-row-m flex-nowrap-m']/div/a\"\u001b[0m\u001b[0;34m)\u001b[0m\u001b[0;34m\u001b[0m\u001b[0;34m\u001b[0m\u001b[0m\n\u001b[0m\u001b[1;32m      2\u001b[0m \u001b[0;34m\u001b[0m\u001b[0m\n\u001b[1;32m      3\u001b[0m \u001b[0;34m\u001b[0m\u001b[0m\n\u001b[1;32m      4\u001b[0m \u001b[0;34m\u001b[0m\u001b[0m\n",
      "\u001b[0;32m~/opt/anaconda3/lib/python3.8/site-packages/selenium/webdriver/remote/webdriver.py\u001b[0m in \u001b[0;36mfind_elements_by_xpath\u001b[0;34m(self, xpath)\u001b[0m\n\u001b[1;32m    535\u001b[0m             \u001b[0mstacklevel\u001b[0m\u001b[0;34m=\u001b[0m\u001b[0;36m2\u001b[0m\u001b[0;34m,\u001b[0m\u001b[0;34m\u001b[0m\u001b[0;34m\u001b[0m\u001b[0m\n\u001b[1;32m    536\u001b[0m         )\n\u001b[0;32m--> 537\u001b[0;31m         \u001b[0;32mreturn\u001b[0m \u001b[0mself\u001b[0m\u001b[0;34m.\u001b[0m\u001b[0mfind_elements\u001b[0m\u001b[0;34m(\u001b[0m\u001b[0mby\u001b[0m\u001b[0;34m=\u001b[0m\u001b[0mBy\u001b[0m\u001b[0;34m.\u001b[0m\u001b[0mXPATH\u001b[0m\u001b[0;34m,\u001b[0m \u001b[0mvalue\u001b[0m\u001b[0;34m=\u001b[0m\u001b[0mxpath\u001b[0m\u001b[0;34m)\u001b[0m\u001b[0;34m\u001b[0m\u001b[0;34m\u001b[0m\u001b[0m\n\u001b[0m\u001b[1;32m    538\u001b[0m \u001b[0;34m\u001b[0m\u001b[0m\n\u001b[1;32m    539\u001b[0m     \u001b[0;32mdef\u001b[0m \u001b[0mfind_element_by_link_text\u001b[0m\u001b[0;34m(\u001b[0m\u001b[0mself\u001b[0m\u001b[0;34m,\u001b[0m \u001b[0mlink_text\u001b[0m\u001b[0;34m)\u001b[0m \u001b[0;34m->\u001b[0m \u001b[0mWebElement\u001b[0m\u001b[0;34m:\u001b[0m\u001b[0;34m\u001b[0m\u001b[0;34m\u001b[0m\u001b[0m\n",
      "\u001b[0;32m~/opt/anaconda3/lib/python3.8/site-packages/selenium/webdriver/remote/webdriver.py\u001b[0m in \u001b[0;36mfind_elements\u001b[0;34m(self, by, value)\u001b[0m\n\u001b[1;32m   1271\u001b[0m         \u001b[0;31m# Return empty list if driver returns null\u001b[0m\u001b[0;34m\u001b[0m\u001b[0;34m\u001b[0m\u001b[0;34m\u001b[0m\u001b[0m\n\u001b[1;32m   1272\u001b[0m         \u001b[0;31m# See https://github.com/SeleniumHQ/selenium/issues/4555\u001b[0m\u001b[0;34m\u001b[0m\u001b[0;34m\u001b[0m\u001b[0;34m\u001b[0m\u001b[0m\n\u001b[0;32m-> 1273\u001b[0;31m         return self.execute(Command.FIND_ELEMENTS, {\n\u001b[0m\u001b[1;32m   1274\u001b[0m             \u001b[0;34m'using'\u001b[0m\u001b[0;34m:\u001b[0m \u001b[0mby\u001b[0m\u001b[0;34m,\u001b[0m\u001b[0;34m\u001b[0m\u001b[0;34m\u001b[0m\u001b[0m\n\u001b[1;32m   1275\u001b[0m             'value': value})['value'] or []\n",
      "\u001b[0;32m~/opt/anaconda3/lib/python3.8/site-packages/selenium/webdriver/remote/webdriver.py\u001b[0m in \u001b[0;36mexecute\u001b[0;34m(self, driver_command, params)\u001b[0m\n\u001b[1;32m    416\u001b[0m         \u001b[0mresponse\u001b[0m \u001b[0;34m=\u001b[0m \u001b[0mself\u001b[0m\u001b[0;34m.\u001b[0m\u001b[0mcommand_executor\u001b[0m\u001b[0;34m.\u001b[0m\u001b[0mexecute\u001b[0m\u001b[0;34m(\u001b[0m\u001b[0mdriver_command\u001b[0m\u001b[0;34m,\u001b[0m \u001b[0mparams\u001b[0m\u001b[0;34m)\u001b[0m\u001b[0;34m\u001b[0m\u001b[0;34m\u001b[0m\u001b[0m\n\u001b[1;32m    417\u001b[0m         \u001b[0;32mif\u001b[0m \u001b[0mresponse\u001b[0m\u001b[0;34m:\u001b[0m\u001b[0;34m\u001b[0m\u001b[0;34m\u001b[0m\u001b[0m\n\u001b[0;32m--> 418\u001b[0;31m             \u001b[0mself\u001b[0m\u001b[0;34m.\u001b[0m\u001b[0merror_handler\u001b[0m\u001b[0;34m.\u001b[0m\u001b[0mcheck_response\u001b[0m\u001b[0;34m(\u001b[0m\u001b[0mresponse\u001b[0m\u001b[0;34m)\u001b[0m\u001b[0;34m\u001b[0m\u001b[0;34m\u001b[0m\u001b[0m\n\u001b[0m\u001b[1;32m    419\u001b[0m             response['value'] = self._unwrap_value(\n\u001b[1;32m    420\u001b[0m                 response.get('value', None))\n",
      "\u001b[0;32m~/opt/anaconda3/lib/python3.8/site-packages/selenium/webdriver/remote/errorhandler.py\u001b[0m in \u001b[0;36mcheck_response\u001b[0;34m(self, response)\u001b[0m\n\u001b[1;32m    241\u001b[0m                 \u001b[0malert_text\u001b[0m \u001b[0;34m=\u001b[0m \u001b[0mvalue\u001b[0m\u001b[0;34m[\u001b[0m\u001b[0;34m'alert'\u001b[0m\u001b[0;34m]\u001b[0m\u001b[0;34m.\u001b[0m\u001b[0mget\u001b[0m\u001b[0;34m(\u001b[0m\u001b[0;34m'text'\u001b[0m\u001b[0;34m)\u001b[0m\u001b[0;34m\u001b[0m\u001b[0;34m\u001b[0m\u001b[0m\n\u001b[1;32m    242\u001b[0m             \u001b[0;32mraise\u001b[0m \u001b[0mexception_class\u001b[0m\u001b[0;34m(\u001b[0m\u001b[0mmessage\u001b[0m\u001b[0;34m,\u001b[0m \u001b[0mscreen\u001b[0m\u001b[0;34m,\u001b[0m \u001b[0mstacktrace\u001b[0m\u001b[0;34m,\u001b[0m \u001b[0malert_text\u001b[0m\u001b[0;34m)\u001b[0m  \u001b[0;31m# type: ignore[call-arg]  # mypy is not smart enough here\u001b[0m\u001b[0;34m\u001b[0m\u001b[0;34m\u001b[0m\u001b[0m\n\u001b[0;32m--> 243\u001b[0;31m         \u001b[0;32mraise\u001b[0m \u001b[0mexception_class\u001b[0m\u001b[0;34m(\u001b[0m\u001b[0mmessage\u001b[0m\u001b[0;34m,\u001b[0m \u001b[0mscreen\u001b[0m\u001b[0;34m,\u001b[0m \u001b[0mstacktrace\u001b[0m\u001b[0;34m)\u001b[0m\u001b[0;34m\u001b[0m\u001b[0;34m\u001b[0m\u001b[0m\n\u001b[0m\u001b[1;32m    244\u001b[0m \u001b[0;34m\u001b[0m\u001b[0m\n\u001b[1;32m    245\u001b[0m     \u001b[0;32mdef\u001b[0m \u001b[0m_value_or_default\u001b[0m\u001b[0;34m(\u001b[0m\u001b[0mself\u001b[0m\u001b[0;34m,\u001b[0m \u001b[0mobj\u001b[0m\u001b[0;34m:\u001b[0m \u001b[0mMapping\u001b[0m\u001b[0;34m[\u001b[0m\u001b[0m_KT\u001b[0m\u001b[0;34m,\u001b[0m \u001b[0m_VT\u001b[0m\u001b[0;34m]\u001b[0m\u001b[0;34m,\u001b[0m \u001b[0mkey\u001b[0m\u001b[0;34m:\u001b[0m \u001b[0m_KT\u001b[0m\u001b[0;34m,\u001b[0m \u001b[0mdefault\u001b[0m\u001b[0;34m:\u001b[0m \u001b[0m_VT\u001b[0m\u001b[0;34m)\u001b[0m \u001b[0;34m->\u001b[0m \u001b[0m_VT\u001b[0m\u001b[0;34m:\u001b[0m\u001b[0;34m\u001b[0m\u001b[0;34m\u001b[0m\u001b[0m\n",
      "\u001b[0;31mNoSuchWindowException\u001b[0m: Message: no such window: window was already closed\n  (Session info: chrome=96.0.4664.55)\nStacktrace:\n0   chromedriver                        0x0000000100762269 __gxx_personality_v0 + 582729\n1   chromedriver                        0x00000001006edc33 __gxx_personality_v0 + 106003\n2   chromedriver                        0x00000001002aae28 chromedriver + 171560\n3   chromedriver                        0x000000010029aa95 chromedriver + 105109\n4   chromedriver                        0x000000010029bf42 chromedriver + 110402\n5   chromedriver                        0x0000000100294c22 chromedriver + 80930\n6   chromedriver                        0x00000001002ac2b3 chromedriver + 176819\n7   chromedriver                        0x000000010030fb0c chromedriver + 584460\n8   chromedriver                        0x00000001002fdc23 chromedriver + 511011\n9   chromedriver                        0x00000001002d375e chromedriver + 337758\n10  chromedriver                        0x00000001002d4a95 chromedriver + 342677\n11  chromedriver                        0x000000010071e8ab __gxx_personality_v0 + 305803\n12  chromedriver                        0x0000000100735863 __gxx_personality_v0 + 399939\n13  chromedriver                        0x000000010073ac7f __gxx_personality_v0 + 421471\n14  chromedriver                        0x0000000100736bba __gxx_personality_v0 + 404890\n15  chromedriver                        0x0000000100712e51 __gxx_personality_v0 + 258097\n16  chromedriver                        0x0000000100752158 __gxx_personality_v0 + 516920\n17  chromedriver                        0x00000001007522e1 __gxx_personality_v0 + 517313\n18  chromedriver                        0x00000001007696f8 __gxx_personality_v0 + 612568\n19  libsystem_pthread.dylib             0x00007fff20349950 _pthread_start + 224\n20  libsystem_pthread.dylib             0x00007fff2034547b thread_start + 15\n"
     ]
    }
   ],
   "source": [
    "\n",
    "\n",
    "url_components = driver.find_elements_by_xpath(\"//div[@class='wide-tease-item__wrapper df flex-column flex-row-m flex-nowrap-m']/div/a\")\n",
    "\n",
    "\n",
    "\n"
   ]
  },
  {
   "cell_type": "code",
   "execution_count": null,
   "metadata": {
    "scrolled": false
   },
   "outputs": [],
   "source": [
    "all_urls = [url.get_attribute(\"href\") for url in url_components]\n",
    "\n",
    "urls_to_scrape = [url for url in all_urls if \"video\" not in url]\n"
   ]
  },
  {
   "cell_type": "code",
   "execution_count": null,
   "metadata": {},
   "outputs": [],
   "source": [
    "urls_to_scrape"
   ]
  },
  {
   "cell_type": "code",
   "execution_count": null,
   "metadata": {},
   "outputs": [],
   "source": [
    "from tqdm import tqdm\n",
    "\n",
    "article_texts = []\n",
    "\n",
    "for url in tqdm(urls_to_scrape):\n",
    "    \n",
    "    driver.get(url)\n",
    "    \n",
    "    paragraphs_in_article =  driver.find_elements_by_xpath(\"//div[contains(@class,'article-body')]//p\")[::-1]\n",
    "    \n",
    "    news_article_text = \"\"\n",
    "\n",
    "    for paragraph in paragraphs_in_article:\n",
    "        text = paragraph.text\n",
    "    \n",
    "        news_article_text = news_article_text + \" \" + text\n",
    "        \n",
    "    article_texts.append(news_article_text)"
   ]
  },
  {
   "cell_type": "code",
   "execution_count": null,
   "metadata": {},
   "outputs": [],
   "source": [
    "import pandas as pd\n",
    "\n",
    "nbc_news = pd.DataFrame(article_texts,columns=[\"text\"])"
   ]
  },
  {
   "cell_type": "code",
   "execution_count": null,
   "metadata": {},
   "outputs": [],
   "source": [
    "nbc_news.to_csv(\"nbc_news.csv\",index=False)"
   ]
  },
  {
   "cell_type": "code",
   "execution_count": null,
   "metadata": {},
   "outputs": [],
   "source": [
    "nbc_news.tail()"
   ]
  },
  {
   "cell_type": "markdown",
   "metadata": {},
   "source": [
    "# Scrape New York Times"
   ]
  },
  {
   "cell_type": "code",
   "execution_count": null,
   "metadata": {},
   "outputs": [],
   "source": [
    "driver.get(\"https://www.nytimes.com/section/climate\")"
   ]
  },
  {
   "cell_type": "code",
   "execution_count": null,
   "metadata": {},
   "outputs": [],
   "source": [
    "driver.execute_script(\"window.scrollTo(0, document.body.scrollHeight);\")\n",
    "time.sleep(1)\n",
    "driver.execute_script(\"window.scrollTo(0, document.body.scrollHeight);\")\n",
    "time.sleep(1)\n",
    "driver.execute_script(\"window.scrollTo(0, document.body.scrollHeight);\")\n",
    "time.sleep(1)"
   ]
  },
  {
   "cell_type": "code",
   "execution_count": null,
   "metadata": {},
   "outputs": [],
   "source": [
    "urls = driver.find_elements_by_xpath(\"//li[contains(@class,'css-ye6x8s')]//a\")"
   ]
  },
  {
   "cell_type": "code",
   "execution_count": null,
   "metadata": {},
   "outputs": [],
   "source": [
    "urls_to_scrape = [url.get_attribute(\"href\") for url in urls]"
   ]
  },
  {
   "cell_type": "code",
   "execution_count": null,
   "metadata": {},
   "outputs": [],
   "source": [
    "urls_to_scrape"
   ]
  },
  {
   "cell_type": "code",
   "execution_count": null,
   "metadata": {},
   "outputs": [],
   "source": [
    "for url in urls_to_scrape[:5]:\n",
    "    driver.get(url)"
   ]
  },
  {
   "cell_type": "code",
   "execution_count": null,
   "metadata": {},
   "outputs": [],
   "source": [
    "#Manully enter email and password after running above cell\n",
    "\n",
    "# email id : hanishrohit@gmail.com\n",
    "#password: Iloveiran2"
   ]
  },
  {
   "cell_type": "code",
   "execution_count": null,
   "metadata": {},
   "outputs": [],
   "source": [
    "article_texts = []\n",
    "\n",
    "for url in tqdm(urls_to_scrape):\n",
    "    \n",
    "    driver.get(url)\n",
    "    time.sleep(2)\n",
    "    driver.execute_script(\"window.scrollTo(0, document.body.scrollHeight);\")\n",
    "    time.sleep(3)\n",
    "    driver.execute_script(\"window.scrollTo(0, document.body.scrollHeight);\")\n",
    "    \n",
    "    paragarhs = driver.find_elements_by_xpath(\"//section[contains(@name,'articleBody')]//p\")\n",
    "    \n",
    "    article_text = \"\"\n",
    "\n",
    "    for paragraph in paragarhs:\n",
    "        \n",
    "        text = paragraph.text\n",
    "    \n",
    "        article_text = article_text + \" \" + text\n",
    "        \n",
    "    article_texts.append(news_article_text)"
   ]
  },
  {
   "cell_type": "code",
   "execution_count": null,
   "metadata": {},
   "outputs": [],
   "source": [
    "article_texts[-1]"
   ]
  },
  {
   "cell_type": "code",
   "execution_count": null,
   "metadata": {},
   "outputs": [],
   "source": [
    "ny_times = pd.DataFrame(article_texts,columns=[\"text\"])"
   ]
  },
  {
   "cell_type": "code",
   "execution_count": null,
   "metadata": {},
   "outputs": [],
   "source": [
    "nbc_news.to_csv(\"ny_times.csv\",index=False)"
   ]
  },
  {
   "cell_type": "code",
   "execution_count": null,
   "metadata": {},
   "outputs": [],
   "source": []
  },
  {
   "cell_type": "markdown",
   "metadata": {},
   "source": [
    "# Scrape Hindustan Times"
   ]
  },
  {
   "cell_type": "code",
   "execution_count": 6,
   "metadata": {},
   "outputs": [],
   "source": [
    "driver.get(\"https://www.hindustantimes.com/topic/climate-change/page-1\")"
   ]
  },
  {
   "cell_type": "code",
   "execution_count": 7,
   "metadata": {},
   "outputs": [
    {
     "name": "stderr",
     "output_type": "stream",
     "text": [
      "  0%|          | 0/34 [00:00<?, ?it/s]<ipython-input-7-7da7cff6ec0a>:12: DeprecationWarning: find_elements_by_* commands are deprecated. Please use find_elements() instead\n",
      "  urls_in_page = driver.find_elements_by_xpath(\"//section[contains(@data-url,'/topic/climate-change')]//h3[contains(@class,'hdg3')]/a\")\n",
      "100%|██████████| 34/34 [05:44<00:00, 10.14s/it]\n"
     ]
    }
   ],
   "source": [
    "from tqdm import tqdm\n",
    "import time\n",
    "\n",
    "urls_to_scrape = []\n",
    "\n",
    "for page_no in tqdm(range(1,35)):\n",
    "    \n",
    "    driver.get(f\"https://www.hindustantimes.com/topic/climate-change/page-{page_no}\")\n",
    "    \n",
    "    time.sleep(2)\n",
    "    \n",
    "    urls_in_page = driver.find_elements_by_xpath(\"//section[contains(@data-url,'/topic/climate-change')]//h3[contains(@class,'hdg3')]/a\")\n",
    "    \n",
    "    urls_in_page = [url.get_attribute(\"href\") for url in urls_in_page]\n",
    "    \n",
    "    urls_to_scrape.append(urls_in_page)\n",
    "    "
   ]
  },
  {
   "cell_type": "code",
   "execution_count": 8,
   "metadata": {},
   "outputs": [],
   "source": [
    "urls_to_scrape = list(itertools.chain(*urls_to_scrape))"
   ]
  },
  {
   "cell_type": "code",
   "execution_count": 9,
   "metadata": {},
   "outputs": [
    {
     "name": "stdout",
     "output_type": "stream",
     "text": [
      "Total news articles related to climate to be scrapped from Hindustan times : 1020\n"
     ]
    }
   ],
   "source": [
    "print(\"Total news articles related to climate to be scrapped from Hindustan times :\", len(urls_to_scrape))"
   ]
  },
  {
   "cell_type": "code",
   "execution_count": 10,
   "metadata": {
    "scrolled": true
   },
   "outputs": [
    {
     "data": {
      "text/plain": [
       "['https://www.hindustantimes.com/videos/htls/why-luxury-travel-industry-can-t-ignore-carbon-emissions-single-use-plastic-soneva-ceo-htls2021-101638556503927.html',\n",
       " 'https://www.hindustantimes.com/education/news/catch-them-young-school-climate-education-key-for-sustainable-development-101637669551888.html',\n",
       " 'https://www.hindustantimes.com/world-news/brazil-faces-charges-of-greenwashing-over-amazon-deforestation-101637428419784.html',\n",
       " 'https://www.hindustantimes.com/opinion/use-religion-to-battle-the-climate-crisis-101637417605766.html',\n",
       " 'https://www.hindustantimes.com/world-news/boris-johnson-praises-modi-for-india-s-climate-ambitions-at-cop26-101636998089541.html',\n",
       " 'https://www.hindustantimes.com/environment/speed-up-your-net-zero-plans-cop26-s-message-to-companies-101636982860692.html',\n",
       " 'https://www.hindustantimes.com/india-news/explaining-what-cop26-achieved-and-what-it-didnt-101636915154197.html',\n",
       " 'https://www.hindustantimes.com/videos/news/cop26-deal-modi-govt-s-push-to-dilute-coal-aim-climate-fund-let-down-decoded-101636914836507.html',\n",
       " 'https://www.hindustantimes.com/india-news/india-leads-negotiations-as-cop26-deal-is-done-101636915102562.html',\n",
       " 'https://www.hindustantimes.com/videos/world-news/uk-protestor-hijacks-mic-at-cop26-stage-amid-disappointment-over-glasgow-climate-pact-101636899756594.html',\n",
       " 'https://www.hindustantimes.com/world-news/blah-blah-blah-greta-thunberg-s-assessment-of-cop26-climate-agreement-101636846931176.html',\n",
       " 'https://www.hindustantimes.com/world-news/climate-meet-in-glasgow-tense-final-hours-at-cop26-amid-tough-stands-on-deal-101636828370575.html',\n",
       " 'https://www.hindustantimes.com/ht-insight/climate-change/the-future-of-climate-action-in-search-of-a-united-global-south-101636799476407.html',\n",
       " 'https://www.hindustantimes.com/photos/news/chennai-rains-multiple-ndrf-teams-deployed-as-incessant-showers-batter-city-101636686744918.html',\n",
       " 'https://www.hindustantimes.com/india-news/cop26developing-countries-dig-in-heels-as-talks-reach-final-lap-101636655080090.html',\n",
       " 'https://www.hindustantimes.com/ht-insight/climate-change/mapping-india-s-climate-vulnerability-a-district-level-assessment-101636642145178.html',\n",
       " 'https://www.hindustantimes.com/environment/indias-pledge-towards-net-zero-by-2070-paves-path-towards-a-sustainable-future-101636643133863.html',\n",
       " 'https://www.hindustantimes.com/india-news/cop26-outcome-should-focus-on-preserving-the-ndcs-basic-101636570521840.html',\n",
       " 'https://www.hindustantimes.com/india-news/cop26-draft-urges-boost-to-green-goals-by-2022-101636569025224.html',\n",
       " 'https://www.hindustantimes.com/world-news/new-climate-pledges-not-enoughstudies-101636509238734.html',\n",
       " 'https://www.hindustantimes.com/india-news/cop-26-won-t-revise-official-climate-pledge-till-financing-clear-says-indian-delegate-101636483688856.html',\n",
       " 'https://www.hindustantimes.com/world-news/pressure-on-countries-to-act-as-un-talks-enter-final-week-101636419092764.html',\n",
       " 'https://www.hindustantimes.com/world-news/developed-nations-trying-to-renegotiate-climate-finance-101636416690348.html',\n",
       " 'https://www.hindustantimes.com/world-news/indias-pledge-among-most-substantive-climate-expert-101636406598856.html',\n",
       " 'https://www.hindustantimes.com/world-news/climate-finance-key-for-developing-nations-101636326059932.html',\n",
       " 'https://www.hindustantimes.com/india-news/prelim-glasgow-draft-emphasises-1-5-c-cap-101636309369345.html',\n",
       " 'https://www.hindustantimes.com/india-news/sunderban-bears-climate-change-brunt-as-world-leaders-negotiate-at-cop-101636309189321.html',\n",
       " 'https://www.hindustantimes.com/lifestyle/travel/ski-tourism-is-heading-downhill-because-of-climate-change-says-new-study-101636077197907.html',\n",
       " 'https://www.hindustantimes.com/environment/cop26-india-net-zero-target-climate-action-carbon-emmissions-clean-energy-101636034405761.html',\n",
       " 'https://www.hindustantimes.com/environment/india-sees-carbon-emissions-peaking-in-2040-45-before-slumping-101635947772041.html',\n",
       " 'https://www.hindustantimes.com/india-news/watch-pm-modi-plays-drums-in-meeting-with-indian-community-before-his-departure-from-glasgow-101635907887278.html',\n",
       " 'https://www.hindustantimes.com/world-news/small-island-nations-at-biggest-threat-from-climate-change-pm-modi-101635845675430.html',\n",
       " 'https://www.hindustantimes.com/world-news/climate-change-to-hit-staple-produces-by-2030-corn-will-suffer-majorly-nasa-study-101635784375326.html',\n",
       " 'https://www.hindustantimes.com/world-news/pm-modi-cop26-summit-adaptation-development-fight-climate-change-101635781592325.html']"
      ]
     },
     "execution_count": 10,
     "metadata": {},
     "output_type": "execute_result"
    }
   ],
   "source": [
    "urls_to_scrape[:34]"
   ]
  },
  {
   "cell_type": "code",
   "execution_count": 11,
   "metadata": {},
   "outputs": [
    {
     "name": "stderr",
     "output_type": "stream",
     "text": [
      "  0%|          | 0/1020 [00:00<?, ?it/s]<ipython-input-11-82cc1b8527da>:9: DeprecationWarning: find_elements_by_* commands are deprecated. Please use find_elements() instead\n",
      "  paragraphs=  driver.find_elements_by_xpath(\"//div[contains(@class,'storyDetails')]//p\")[:-2]\n",
      "100%|██████████| 1020/1020 [18:13<00:00,  1.07s/it]\n"
     ]
    }
   ],
   "source": [
    "from tqdm import tqdm\n",
    "\n",
    "article_texts = []\n",
    "\n",
    "for url in tqdm(urls_to_scrape):\n",
    "    \n",
    "    driver.get(url)\n",
    "    \n",
    "    paragraphs=  driver.find_elements_by_xpath(\"//div[contains(@class,'storyDetails')]//p\")[:-2]\n",
    "    \n",
    "    article_text = \"\"\n",
    "\n",
    "    for p in paragraphs:\n",
    "        text = p.text\n",
    "    \n",
    "        article_text = article_text + \" \" + text\n",
    "        \n",
    "    article_texts.append(article_text)"
   ]
  },
  {
   "cell_type": "code",
   "execution_count": 43,
   "metadata": {},
   "outputs": [
    {
     "data": {
      "text/plain": [
       "' India flagged that developed countries are trying to renegotiate who or which countries will provide resources for climate change mitigation, and how often nationally determined contributions (NDCs) will be updated, violating principles of equity and common but differentiated responsibilities (CBDR, under which countries take climate action as per their respective capabilities) . During an informal stock taking of negotiations by Glasgow climate change conference (COP 26) President, Alok Sharma on Monday, India’s lead negotiator, Richa Sharma on behalf of BASIC (Brazil, South Africa, India, and China) countries said these issues are already specified in the Paris Agreement and should not be renegotiated. The Paris Agreement specifies that climate finance and technology support should flow from developed to developing countries. HT reported on Sunday that there are talks of including some developing countries particularly China, Saudi Arabia, even India as donors for the post 2025 new climate finance goal. India has also flagged the erosion of trust due to developed countries’ failure to deliver the $100 billion-a-year fund. “It’s been over a decade that the $100 billion was promised and the world is still waiting which is why trust in multilateralism at stake. There should be a structured process for a new higher finance goal which is a simple ask from developing countries”, she said. If not resolved this will jeopardise net zero commitments of parties and NDCs, Sharma added. India expects credible carbon markets and not cheap offsets, she pointed out. “Trust in multilateralism and credibility of the process is at stake. Post-2020 mitigation ambition and net zero pledges require significantly enhanced climate finance...BASIC would like to warn that lack of a serious approach to climate finance will jeopardize the enhanced mitigation and adaptation ambition as well as net zero pledges of parties,” she added. India’s view is seconded by many developing countries. Bolivia’s lead negotiator, Diego Pacheco, on behalf of Like Minded Developing Countries said: “ Let’s be honest they don’t want to define finance, talk about loss and damage, new finance goal. How can finance be achieved like this? The history of broken promises and unfulfilled commitments has a strong bearing of where we are today.” According to him, the principles of equity and CBDR are non-negotiable. Developed nations are resisting demands for a new finance goal for the post 2025 period, financial compensation for loss and damage, and an independent review of the promised $100 billion-a-year financing. “The stakes could not be higher for countries, communities and peoples on the front lines of the climate crisis... This is a race that we cannot afford to lose. It’s remarkable that [after] close to 30 years of international climate negotiations, adaptation finance represents a mere 25 %of total climate finance, despite what we know and what we’re seeing and experiencing all over the world,” said Selwin Hart, Special Adviser to the UN Secretary-General on Climate Action during his address at COP26 However, Frans Timmermans, executive vice-president of the European Commission in-charge of the European Green Deal during a press conference by EU at COP 26 said: “We are very serious about the delivery of the USD 100 billion. Once delivered there can be some serious discussion on the post 2025 new finance goal.” Meanwhile climate economist, Nicholas Stern said on Monday that India had made among the “most important” NDC announcements.'"
      ]
     },
     "execution_count": 43,
     "metadata": {},
     "output_type": "execute_result"
    }
   ],
   "source": [
    "article_texts[-1]"
   ]
  },
  {
   "cell_type": "code",
   "execution_count": 14,
   "metadata": {},
   "outputs": [],
   "source": [
    "import pandas as pd\n",
    "\n",
    "hindu_news = pd.DataFrame(article_texts,columns=[\"text\"])"
   ]
  },
  {
   "cell_type": "code",
   "execution_count": 15,
   "metadata": {},
   "outputs": [
    {
     "data": {
      "text/plain": [
       "(1020, 1)"
      ]
     },
     "execution_count": 15,
     "metadata": {},
     "output_type": "execute_result"
    }
   ],
   "source": [
    "hindu_news.shape"
   ]
  },
  {
   "cell_type": "code",
   "execution_count": 16,
   "metadata": {},
   "outputs": [],
   "source": [
    "hindu_news.to_csv(\"hindu_news_climate.csv\",index=False)"
   ]
  },
  {
   "cell_type": "code",
   "execution_count": 20,
   "metadata": {},
   "outputs": [
    {
     "data": {
      "text/html": [
       "<div>\n",
       "<style scoped>\n",
       "    .dataframe tbody tr th:only-of-type {\n",
       "        vertical-align: middle;\n",
       "    }\n",
       "\n",
       "    .dataframe tbody tr th {\n",
       "        vertical-align: top;\n",
       "    }\n",
       "\n",
       "    .dataframe thead th {\n",
       "        text-align: right;\n",
       "    }\n",
       "</style>\n",
       "<table border=\"1\" class=\"dataframe\">\n",
       "  <thead>\n",
       "    <tr style=\"text-align: right;\">\n",
       "      <th></th>\n",
       "      <th>text</th>\n",
       "    </tr>\n",
       "  </thead>\n",
       "  <tbody>\n",
       "    <tr>\n",
       "      <th>0</th>\n",
       "      <td></td>\n",
       "    </tr>\n",
       "    <tr>\n",
       "      <th>1</th>\n",
       "      <td>With COP26 a wrap, young influencers across t...</td>\n",
       "    </tr>\n",
       "    <tr>\n",
       "      <th>2</th>\n",
       "      <td>Despite recent headline-grabbing promises to ...</td>\n",
       "    </tr>\n",
       "    <tr>\n",
       "      <th>3</th>\n",
       "      <td>Leaders at the Conference of the Parties (COP...</td>\n",
       "    </tr>\n",
       "    <tr>\n",
       "      <th>4</th>\n",
       "      <td>British Prime Minister Boris Johnson praised ...</td>\n",
       "    </tr>\n",
       "    <tr>\n",
       "      <th>...</th>\n",
       "      <td>...</td>\n",
       "    </tr>\n",
       "    <tr>\n",
       "      <th>1015</th>\n",
       "      <td></td>\n",
       "    </tr>\n",
       "    <tr>\n",
       "      <th>1016</th>\n",
       "      <td></td>\n",
       "    </tr>\n",
       "    <tr>\n",
       "      <th>1017</th>\n",
       "      <td></td>\n",
       "    </tr>\n",
       "    <tr>\n",
       "      <th>1018</th>\n",
       "      <td></td>\n",
       "    </tr>\n",
       "    <tr>\n",
       "      <th>1019</th>\n",
       "      <td>The Sahara Desert has expanded by about 10% s...</td>\n",
       "    </tr>\n",
       "  </tbody>\n",
       "</table>\n",
       "<p>1020 rows × 1 columns</p>\n",
       "</div>"
      ],
      "text/plain": [
       "                                                   text\n",
       "0                                                      \n",
       "1      With COP26 a wrap, young influencers across t...\n",
       "2      Despite recent headline-grabbing promises to ...\n",
       "3      Leaders at the Conference of the Parties (COP...\n",
       "4      British Prime Minister Boris Johnson praised ...\n",
       "...                                                 ...\n",
       "1015                                                   \n",
       "1016                                                   \n",
       "1017                                                   \n",
       "1018                                                   \n",
       "1019   The Sahara Desert has expanded by about 10% s...\n",
       "\n",
       "[1020 rows x 1 columns]"
      ]
     },
     "execution_count": 20,
     "metadata": {},
     "output_type": "execute_result"
    }
   ],
   "source": [
    "hindu_news"
   ]
  },
  {
   "cell_type": "markdown",
   "metadata": {},
   "source": [
    "# Scrape BBC News"
   ]
  },
  {
   "cell_type": "code",
   "execution_count": 16,
   "metadata": {},
   "outputs": [],
   "source": [
    "driver.get(\"https://www.bbc.com/news/science-environment-56837908\")"
   ]
  },
  {
   "cell_type": "code",
   "execution_count": 17,
   "metadata": {},
   "outputs": [],
   "source": [
    "urls_to_scrape = []"
   ]
  },
  {
   "cell_type": "code",
   "execution_count": 18,
   "metadata": {},
   "outputs": [
    {
     "name": "stderr",
     "output_type": "stream",
     "text": [
      "<ipython-input-18-53d3dbdb827e>:5: DeprecationWarning: find_elements_by_* commands are deprecated. Please use find_elements() instead\n",
      "  urls = driver.find_elements_by_xpath(\"//li[contains(@class,'lx-stream__post-container')]//h3/a\")\n",
      "<ipython-input-18-53d3dbdb827e>:16: DeprecationWarning: find_element_by_* commands are deprecated. Please use find_element() instead\n",
      "  next_button = driver.find_element_by_xpath(\"//a[contains(@rel,'next')]\")\n"
     ]
    },
    {
     "ename": "NameError",
     "evalue": "name 'StaleElementReferenceException' is not defined",
     "output_type": "error",
     "traceback": [
      "\u001b[0;31m---------------------------------------------------------------------------\u001b[0m",
      "\u001b[0;31mNoSuchElementException\u001b[0m                    Traceback (most recent call last)",
      "\u001b[0;32m<ipython-input-18-53d3dbdb827e>\u001b[0m in \u001b[0;36m<module>\u001b[0;34m\u001b[0m\n\u001b[1;32m     15\u001b[0m     \u001b[0;32mtry\u001b[0m\u001b[0;34m:\u001b[0m\u001b[0;34m\u001b[0m\u001b[0;34m\u001b[0m\u001b[0m\n\u001b[0;32m---> 16\u001b[0;31m         \u001b[0mnext_button\u001b[0m \u001b[0;34m=\u001b[0m \u001b[0mdriver\u001b[0m\u001b[0;34m.\u001b[0m\u001b[0mfind_element_by_xpath\u001b[0m\u001b[0;34m(\u001b[0m\u001b[0;34m\"//a[contains(@rel,'next')]\"\u001b[0m\u001b[0;34m)\u001b[0m\u001b[0;34m\u001b[0m\u001b[0;34m\u001b[0m\u001b[0m\n\u001b[0m\u001b[1;32m     17\u001b[0m         \u001b[0mnext_button\u001b[0m\u001b[0;34m.\u001b[0m\u001b[0mclick\u001b[0m\u001b[0;34m(\u001b[0m\u001b[0;34m)\u001b[0m\u001b[0;34m\u001b[0m\u001b[0;34m\u001b[0m\u001b[0m\n",
      "\u001b[0;32m~/opt/anaconda3/lib/python3.8/site-packages/selenium/webdriver/remote/webdriver.py\u001b[0m in \u001b[0;36mfind_element_by_xpath\u001b[0;34m(self, xpath)\u001b[0m\n\u001b[1;32m    513\u001b[0m         )\n\u001b[0;32m--> 514\u001b[0;31m         \u001b[0;32mreturn\u001b[0m \u001b[0mself\u001b[0m\u001b[0;34m.\u001b[0m\u001b[0mfind_element\u001b[0m\u001b[0;34m(\u001b[0m\u001b[0mby\u001b[0m\u001b[0;34m=\u001b[0m\u001b[0mBy\u001b[0m\u001b[0;34m.\u001b[0m\u001b[0mXPATH\u001b[0m\u001b[0;34m,\u001b[0m \u001b[0mvalue\u001b[0m\u001b[0;34m=\u001b[0m\u001b[0mxpath\u001b[0m\u001b[0;34m)\u001b[0m\u001b[0;34m\u001b[0m\u001b[0;34m\u001b[0m\u001b[0m\n\u001b[0m\u001b[1;32m    515\u001b[0m \u001b[0;34m\u001b[0m\u001b[0m\n",
      "\u001b[0;32m~/opt/anaconda3/lib/python3.8/site-packages/selenium/webdriver/remote/webdriver.py\u001b[0m in \u001b[0;36mfind_element\u001b[0;34m(self, by, value)\u001b[0m\n\u001b[1;32m   1237\u001b[0m \u001b[0;34m\u001b[0m\u001b[0m\n\u001b[0;32m-> 1238\u001b[0;31m         return self.execute(Command.FIND_ELEMENT, {\n\u001b[0m\u001b[1;32m   1239\u001b[0m             \u001b[0;34m'using'\u001b[0m\u001b[0;34m:\u001b[0m \u001b[0mby\u001b[0m\u001b[0;34m,\u001b[0m\u001b[0;34m\u001b[0m\u001b[0;34m\u001b[0m\u001b[0m\n",
      "\u001b[0;32m~/opt/anaconda3/lib/python3.8/site-packages/selenium/webdriver/remote/webdriver.py\u001b[0m in \u001b[0;36mexecute\u001b[0;34m(self, driver_command, params)\u001b[0m\n\u001b[1;32m    417\u001b[0m         \u001b[0;32mif\u001b[0m \u001b[0mresponse\u001b[0m\u001b[0;34m:\u001b[0m\u001b[0;34m\u001b[0m\u001b[0;34m\u001b[0m\u001b[0m\n\u001b[0;32m--> 418\u001b[0;31m             \u001b[0mself\u001b[0m\u001b[0;34m.\u001b[0m\u001b[0merror_handler\u001b[0m\u001b[0;34m.\u001b[0m\u001b[0mcheck_response\u001b[0m\u001b[0;34m(\u001b[0m\u001b[0mresponse\u001b[0m\u001b[0;34m)\u001b[0m\u001b[0;34m\u001b[0m\u001b[0;34m\u001b[0m\u001b[0m\n\u001b[0m\u001b[1;32m    419\u001b[0m             response['value'] = self._unwrap_value(\n",
      "\u001b[0;32m~/opt/anaconda3/lib/python3.8/site-packages/selenium/webdriver/remote/errorhandler.py\u001b[0m in \u001b[0;36mcheck_response\u001b[0;34m(self, response)\u001b[0m\n\u001b[1;32m    242\u001b[0m             \u001b[0;32mraise\u001b[0m \u001b[0mexception_class\u001b[0m\u001b[0;34m(\u001b[0m\u001b[0mmessage\u001b[0m\u001b[0;34m,\u001b[0m \u001b[0mscreen\u001b[0m\u001b[0;34m,\u001b[0m \u001b[0mstacktrace\u001b[0m\u001b[0;34m,\u001b[0m \u001b[0malert_text\u001b[0m\u001b[0;34m)\u001b[0m  \u001b[0;31m# type: ignore[call-arg]  # mypy is not smart enough here\u001b[0m\u001b[0;34m\u001b[0m\u001b[0;34m\u001b[0m\u001b[0m\n\u001b[0;32m--> 243\u001b[0;31m         \u001b[0;32mraise\u001b[0m \u001b[0mexception_class\u001b[0m\u001b[0;34m(\u001b[0m\u001b[0mmessage\u001b[0m\u001b[0;34m,\u001b[0m \u001b[0mscreen\u001b[0m\u001b[0;34m,\u001b[0m \u001b[0mstacktrace\u001b[0m\u001b[0;34m)\u001b[0m\u001b[0;34m\u001b[0m\u001b[0;34m\u001b[0m\u001b[0m\n\u001b[0m\u001b[1;32m    244\u001b[0m \u001b[0;34m\u001b[0m\u001b[0m\n",
      "\u001b[0;31mNoSuchElementException\u001b[0m: Message: no such element: Unable to locate element: {\"method\":\"xpath\",\"selector\":\"//a[contains(@rel,'next')]\"}\n  (Session info: chrome=96.0.4664.55)\nStacktrace:\n0   chromedriver                        0x0000000104b55269 __gxx_personality_v0 + 582729\n1   chromedriver                        0x0000000104ae0c33 __gxx_personality_v0 + 106003\n2   chromedriver                        0x000000010469de28 chromedriver + 171560\n3   chromedriver                        0x00000001046d33d2 chromedriver + 390098\n4   chromedriver                        0x00000001046d3591 chromedriver + 390545\n5   chromedriver                        0x00000001047056b4 chromedriver + 595636\n6   chromedriver                        0x00000001046f09fd chromedriver + 510461\n7   chromedriver                        0x0000000104703462 chromedriver + 586850\n8   chromedriver                        0x00000001046f0c23 chromedriver + 511011\n9   chromedriver                        0x00000001046c675e chromedriver + 337758\n10  chromedriver                        0x00000001046c7a95 chromedriver + 342677\n11  chromedriver                        0x0000000104b118ab __gxx_personality_v0 + 305803\n12  chromedriver                        0x0000000104b28863 __gxx_personality_v0 + 399939\n13  chromedriver                        0x0000000104b2dc7f __gxx_personality_v0 + 421471\n14  chromedriver                        0x0000000104b29bba __gxx_personality_v0 + 404890\n15  chromedriver                        0x0000000104b05e51 __gxx_personality_v0 + 258097\n16  chromedriver                        0x0000000104b45158 __gxx_personality_v0 + 516920\n17  chromedriver                        0x0000000104b452e1 __gxx_personality_v0 + 517313\n18  chromedriver                        0x0000000104b5c6f8 __gxx_personality_v0 + 612568\n19  libsystem_pthread.dylib             0x00007fff20349950 _pthread_start + 224\n20  libsystem_pthread.dylib             0x00007fff2034547b thread_start + 15\n",
      "\nDuring handling of the above exception, another exception occurred:\n",
      "\u001b[0;31mNameError\u001b[0m                                 Traceback (most recent call last)",
      "\u001b[0;32m<ipython-input-18-53d3dbdb827e>\u001b[0m in \u001b[0;36m<module>\u001b[0;34m\u001b[0m\n\u001b[1;32m     16\u001b[0m         \u001b[0mnext_button\u001b[0m \u001b[0;34m=\u001b[0m \u001b[0mdriver\u001b[0m\u001b[0;34m.\u001b[0m\u001b[0mfind_element_by_xpath\u001b[0m\u001b[0;34m(\u001b[0m\u001b[0;34m\"//a[contains(@rel,'next')]\"\u001b[0m\u001b[0;34m)\u001b[0m\u001b[0;34m\u001b[0m\u001b[0;34m\u001b[0m\u001b[0m\n\u001b[1;32m     17\u001b[0m         \u001b[0mnext_button\u001b[0m\u001b[0;34m.\u001b[0m\u001b[0mclick\u001b[0m\u001b[0;34m(\u001b[0m\u001b[0;34m)\u001b[0m\u001b[0;34m\u001b[0m\u001b[0;34m\u001b[0m\u001b[0m\n\u001b[0;32m---> 18\u001b[0;31m     \u001b[0;32mexcept\u001b[0m \u001b[0mStaleElementReferenceException\u001b[0m\u001b[0;34m:\u001b[0m\u001b[0;34m\u001b[0m\u001b[0;34m\u001b[0m\u001b[0m\n\u001b[0m\u001b[1;32m     19\u001b[0m         \u001b[0mtime\u001b[0m\u001b[0;34m.\u001b[0m\u001b[0msleep\u001b[0m\u001b[0;34m(\u001b[0m\u001b[0;36m4\u001b[0m\u001b[0;34m)\u001b[0m\u001b[0;34m;\u001b[0m\u001b[0;34m\u001b[0m\u001b[0;34m\u001b[0m\u001b[0m\n\u001b[1;32m     20\u001b[0m         \u001b[0;32mbreak\u001b[0m\u001b[0;34m;\u001b[0m\u001b[0;34m\u001b[0m\u001b[0;34m\u001b[0m\u001b[0m\n",
      "\u001b[0;31mNameError\u001b[0m: name 'StaleElementReferenceException' is not defined"
     ]
    }
   ],
   "source": [
    "\n",
    "while True:\n",
    "    \n",
    "    driver.execute_script(\"window.scrollTo(0, document.body.scrollHeight);\")\n",
    "    \n",
    "    urls = driver.find_elements_by_xpath(\"//li[contains(@class,'lx-stream__post-container')]//h3/a\")\n",
    "    \n",
    "    \n",
    "    urls = [url.get_attribute(\"href\") for url in urls]\n",
    "    \n",
    "    urls_to_scrape.extend(urls)\n",
    "    \n",
    "    if(len(urls_to_scrape)>1200):\n",
    "        break\n",
    "\n",
    "    try:\n",
    "        next_button = driver.find_element_by_xpath(\"//a[contains(@rel,'next')]\")\n",
    "        next_button.click()\n",
    "    except StaleElementReferenceException:\n",
    "        time.sleep(4);\n",
    "        break;        \n",
    "    time.sleep(2) "
   ]
  },
  {
   "cell_type": "code",
   "execution_count": 8,
   "metadata": {},
   "outputs": [],
   "source": [
    "# run above cell more than 5 times until length of urls_to_scrape is greater than 1000"
   ]
  },
  {
   "cell_type": "code",
   "execution_count": 19,
   "metadata": {},
   "outputs": [
    {
     "data": {
      "text/plain": [
       "899"
      ]
     },
     "execution_count": 19,
     "metadata": {},
     "output_type": "execute_result"
    }
   ],
   "source": [
    "len(urls_to_scrape)"
   ]
  },
  {
   "cell_type": "code",
   "execution_count": 10,
   "metadata": {},
   "outputs": [
    {
     "name": "stdout",
     "output_type": "stream",
     "text": [
      "Requirement already satisfied: tqdm in /Users/adityagaikwad/opt/anaconda3/lib/python3.8/site-packages (4.50.2)\r\n"
     ]
    }
   ],
   "source": [
    "!pip install tqdm"
   ]
  },
  {
   "cell_type": "code",
   "execution_count": 20,
   "metadata": {},
   "outputs": [],
   "source": [
    "article_texts = []"
   ]
  },
  {
   "cell_type": "code",
   "execution_count": 21,
   "metadata": {},
   "outputs": [
    {
     "name": "stderr",
     "output_type": "stream",
     "text": [
      "  0%|          | 0/899 [00:00<?, ?it/s]<ipython-input-21-cec0ee482b9d>:10: DeprecationWarning: find_elements_by_* commands are deprecated. Please use find_elements() instead\n",
      "  paragraphs=  driver.find_elements_by_xpath(\"//article[contains(@class,'ssrcss-1mc1y2-ArticleWrapper e1nh2i2l6')]//p[contains(@class,'ssrcss-1q0x1qg-Paragraph eq5iqo00')]\")[:-1]\n",
      "100%|██████████| 899/899 [1:06:32<00:00,  4.44s/it]  \n"
     ]
    }
   ],
   "source": [
    "from tqdm import tqdm\n",
    "\n",
    "\n",
    "for url in tqdm(urls_to_scrape):\n",
    "    \n",
    "    driver.get(url)\n",
    "    \n",
    "    time.sleep(2)\n",
    "    \n",
    "    paragraphs=  driver.find_elements_by_xpath(\"//article[contains(@class,'ssrcss-1mc1y2-ArticleWrapper e1nh2i2l6')]//p[contains(@class,'ssrcss-1q0x1qg-Paragraph eq5iqo00')]\")[:-1]\n",
    "    \n",
    "    article_text = \"\"\n",
    "\n",
    "    for p in paragraphs:\n",
    "        text = p.text\n",
    "    \n",
    "        article_text = article_text + \" \" + text\n",
    "        \n",
    "    article_texts.append(article_text)"
   ]
  },
  {
   "cell_type": "code",
   "execution_count": 28,
   "metadata": {},
   "outputs": [],
   "source": [
    "import pandas as pd\n",
    "\n",
    "bbc_news = pd.DataFrame(article_texts,columns=[\"text\"])"
   ]
  },
  {
   "cell_type": "code",
   "execution_count": 29,
   "metadata": {},
   "outputs": [
    {
     "data": {
      "text/plain": [
       "(899, 1)"
      ]
     },
     "execution_count": 29,
     "metadata": {},
     "output_type": "execute_result"
    }
   ],
   "source": [
    "bbc_news.shape"
   ]
  },
  {
   "cell_type": "code",
   "execution_count": 30,
   "metadata": {},
   "outputs": [],
   "source": [
    "bbc_news.to_csv(\"bbc_news_climate.csv\",index=False)"
   ]
  },
  {
   "cell_type": "code",
   "execution_count": 32,
   "metadata": {},
   "outputs": [
    {
     "data": {
      "text/html": [
       "<div>\n",
       "<style scoped>\n",
       "    .dataframe tbody tr th:only-of-type {\n",
       "        vertical-align: middle;\n",
       "    }\n",
       "\n",
       "    .dataframe tbody tr th {\n",
       "        vertical-align: top;\n",
       "    }\n",
       "\n",
       "    .dataframe thead th {\n",
       "        text-align: right;\n",
       "    }\n",
       "</style>\n",
       "<table border=\"1\" class=\"dataframe\">\n",
       "  <thead>\n",
       "    <tr style=\"text-align: right;\">\n",
       "      <th></th>\n",
       "      <th>text</th>\n",
       "    </tr>\n",
       "  </thead>\n",
       "  <tbody>\n",
       "    <tr>\n",
       "      <th>895</th>\n",
       "      <td>The US Environmental Protection Agency (EPA) ...</td>\n",
       "    </tr>\n",
       "    <tr>\n",
       "      <th>896</th>\n",
       "      <td>The head of a vital UN climate summit due to ...</td>\n",
       "    </tr>\n",
       "    <tr>\n",
       "      <th>897</th>\n",
       "      <td>A time-travelling Victorian stumbling upon a ...</td>\n",
       "    </tr>\n",
       "    <tr>\n",
       "      <th>898</th>\n",
       "      <td>Environmentalists are warning the government ...</td>\n",
       "    </tr>\n",
       "  </tbody>\n",
       "</table>\n",
       "</div>"
      ],
      "text/plain": [
       "                                                  text\n",
       "895   The US Environmental Protection Agency (EPA) ...\n",
       "896   The head of a vital UN climate summit due to ...\n",
       "897   A time-travelling Victorian stumbling upon a ...\n",
       "898   Environmentalists are warning the government ..."
      ]
     },
     "execution_count": 32,
     "metadata": {},
     "output_type": "execute_result"
    }
   ],
   "source": [
    "bbc_news.tail(4)"
   ]
  },
  {
   "cell_type": "code",
   "execution_count": 27,
   "metadata": {},
   "outputs": [],
   "source": [
    "temp = article_texts"
   ]
  },
  {
   "cell_type": "code",
   "execution_count": null,
   "metadata": {},
   "outputs": [],
   "source": []
  }
 ],
 "metadata": {
  "kernelspec": {
   "display_name": "Python 3",
   "language": "python",
   "name": "python3"
  },
  "language_info": {
   "codemirror_mode": {
    "name": "ipython",
    "version": 3
   },
   "file_extension": ".py",
   "mimetype": "text/x-python",
   "name": "python",
   "nbconvert_exporter": "python",
   "pygments_lexer": "ipython3",
   "version": "3.8.5"
  }
 },
 "nbformat": 4,
 "nbformat_minor": 5
}
